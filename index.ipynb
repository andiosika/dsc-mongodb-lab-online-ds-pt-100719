{
 "cells": [
  {
   "cell_type": "markdown",
   "metadata": {},
   "source": [
    "# MongoDB - Lab\n",
    "\n",
    "## Introduction\n",
    "\n",
    "In this lesson, we'll get some hands-on experience with MongoDB!\n",
    "\n",
    "## Objectives\n",
    "You will be able to: \n",
    "\n",
    "- Create a MongoDB database   \n",
    "- Insert data into a MongoDB database   \n",
    "- Read data from a MongoDB database   \n",
    "- Update data in a MongoDB database   \n",
    "\n",
    "## Getting Started\n",
    "\n",
    "To begin this lab, make sure that you start up the mongoDB server in your terminal first! **You must do this lab locally on your computer, not in Learn.**\n",
    "\n",
    "\n",
    "## Connecting to the MongoDB Database\n",
    "\n",
    "In the cell below, import the appropriate library and connect to the mongoDB server. Create a new database called `'lab_db'`."
   ]
  },
  {
   "cell_type": "code",
   "execution_count": 1,
   "metadata": {},
   "outputs": [
    {
     "name": "stdout",
     "output_type": "stream",
     "text": [
      "Requirement already satisfied: pymongo in c:\\users\\aosika\\appdata\\local\\continuum\\anaconda3\\envs\\learn-env\\lib\\site-packages (3.10.0)\n"
     ]
    }
   ],
   "source": [
    "!pip install pymongo\n"
   ]
  },
  {
   "cell_type": "code",
   "execution_count": 3,
   "metadata": {},
   "outputs": [],
   "source": [
    "import pymongo"
   ]
  },
  {
   "cell_type": "code",
   "execution_count": 4,
   "metadata": {},
   "outputs": [],
   "source": [
    "myclient = pymongo.MongoClient('mongodb://localhost:27017')\n",
    "mydb = myclient['lab_db']"
   ]
  },
  {
   "cell_type": "code",
   "execution_count": null,
   "metadata": {},
   "outputs": [],
   "source": []
  },
  {
   "cell_type": "markdown",
   "metadata": {},
   "source": [
    "## Creating a Collection\n",
    "\n",
    "Now, create a collection called `'lab_collection'` inside `'lab_db'`."
   ]
  },
  {
   "cell_type": "code",
   "execution_count": 5,
   "metadata": {},
   "outputs": [],
   "source": [
    "mycollection = mydb['lab_collection']"
   ]
  },
  {
   "cell_type": "code",
   "execution_count": 6,
   "metadata": {},
   "outputs": [],
   "source": [
    "query = mycollection.delete_many({})"
   ]
  },
  {
   "cell_type": "markdown",
   "metadata": {},
   "source": [
    "## Adding Some Data\n",
    "\n",
    "Now, we're going to add some example records into our database. In the cells below, create dictionary representations of the following customer records:\n",
    "\n",
    "\n",
    "|     Name     |            Email           |  Mailing_Address  | Balance |                         Notes                         |\n",
    "|:------------:|:--------------------------:|:-----------------:|:-------:|:-----------------------------------------------------:|\n",
    "|  John Smith  |    j.smith@thesmiths.com   | 123 mulberry lane |   0.0   |    Called technical support, issue not yet resolved   |\n",
    "|  Jane Smith  |  jane_smith@thesmiths.com  |         Null          |  25.00  |                   Null                                    |\n",
    "|  Adam Enbar  | adam@theflatironschool.com |    11 Broadway    |  14.99  |           Set up on recurring billing cycle           |\n",
    "| Avi Flombaum |  avi@theflatironschool.com |    11 Broadway    |   0.0   |                   Null                                    |\n",
    "|   Steven S.  |     steven.s@gmail.net     |         Null          |  -20.23 | Refunded for overpayment due to price match guarantee |\n",
    "\n",
    "\n",
    "Your first challenge is to take all of the data in the table above and create the corresponding documents and add then to our mongo database. Note that fields that contain 'Null' should not be included in the document (recall that since mongo is schema-less, each document can be different). \n",
    "\n",
    "Create the documents from the table listed above, and then use `insert_many()` to insert them into the collection."
   ]
  },
  {
   "cell_type": "code",
   "execution_count": 7,
   "metadata": {},
   "outputs": [],
   "source": [
    "customer_1 = {'Name' : 'John Smith', 'Email' : 'j.smith@thesmiths.com', 'Mailing_Address': '123 mulberry lane', 'Balance':'0.0','Notes': 'Called technical support, issue not yet resolved'}\n",
    "customer_2 = {'Name' : 'Jane Smith', 'Email' : 'jane.smith@thesmiths.com', 'Balance':'25.00'}\n",
    "customer_3 = {'Name' : 'Adam Enbar', 'Email' : 'adam@theflatironschool.com', 'Mailing_Address': '11 Broadway', 'Balance':'14.99','Notes': 'Set up on recurring billing cycle'}\n",
    "customer_4 = {'Name' : 'Avi Flombaum', 'Email' : 'avi@theflatironschool.com', 'Mailing_Address': '11 Broadway', 'Balance':'0.0'}\n",
    "customer_5 = {'Name' : 'Steven S.', 'Email' : 'steven.s@gmail.net', 'Balance':'-23.23','Notes': 'Refunded for overpayment due to price match guarantee'}\n",
    "\n",
    "all_records =[customer_1,customer_2, customer_3, customer_4, customer_5]\n",
    "\n",
    "insertion_results = mycollection.insert_many(all_records)"
   ]
  },
  {
   "cell_type": "markdown",
   "metadata": {},
   "source": [
    "Now, access the appropriate attribute from the results object returned from the insertion to see the unique IDs for each record inserted, so that we can confirm each were inserted correctly. "
   ]
  },
  {
   "cell_type": "code",
   "execution_count": 8,
   "metadata": {},
   "outputs": [
    {
     "data": {
      "text/plain": [
       "[ObjectId('5dfa800251ff3d6d80ddf5a3'),\n",
       " ObjectId('5dfa800251ff3d6d80ddf5a4'),\n",
       " ObjectId('5dfa800251ff3d6d80ddf5a5'),\n",
       " ObjectId('5dfa800251ff3d6d80ddf5a6'),\n",
       " ObjectId('5dfa800251ff3d6d80ddf5a7')]"
      ]
     },
     "execution_count": 8,
     "metadata": {},
     "output_type": "execute_result"
    }
   ],
   "source": [
    "insertion_results.inserted_ids"
   ]
  },
  {
   "cell_type": "markdown",
   "metadata": {},
   "source": [
    "## Querying and Filtering\n",
    "\n",
    "In the cell below, return the name and email address for every customer record. Then, print every item from the query to show that it worked correctly. "
   ]
  },
  {
   "cell_type": "code",
   "execution_count": 9,
   "metadata": {},
   "outputs": [
    {
     "name": "stdout",
     "output_type": "stream",
     "text": [
      "{'_id': ObjectId('5dfa800251ff3d6d80ddf5a3'), 'Name': 'John Smith', 'Email': 'j.smith@thesmiths.com'}\n",
      "{'_id': ObjectId('5dfa800251ff3d6d80ddf5a4'), 'Name': 'Jane Smith', 'Email': 'jane.smith@thesmiths.com'}\n",
      "{'_id': ObjectId('5dfa800251ff3d6d80ddf5a5'), 'Name': 'Adam Enbar', 'Email': 'adam@theflatironschool.com'}\n",
      "{'_id': ObjectId('5dfa800251ff3d6d80ddf5a6'), 'Name': 'Avi Flombaum', 'Email': 'avi@theflatironschool.com'}\n",
      "{'_id': ObjectId('5dfa800251ff3d6d80ddf5a7'), 'Name': 'Steven S.', 'Email': 'steven.s@gmail.net'}\n"
     ]
    },
    {
     "data": {
      "text/plain": [
       "[None, None, None, None, None]"
      ]
     },
     "execution_count": 9,
     "metadata": {},
     "output_type": "execute_result"
    }
   ],
   "source": [
    "query_1 = mycollection.find({}, {'Name' : 1, 'Email' : 1})\n",
    "[print (x) for x in query_1]\n",
    "\n",
    "    \n",
    "    \n"
   ]
  },
  {
   "cell_type": "markdown",
   "metadata": {},
   "source": [
    "Great! Now, let's write a query that gets an individual record based on a stored key-value pair a document contains. \n",
    "\n",
    "In the cell below, write a query to get the record for `'John Smith'` by using his name. Then, print the results of the query to demonstrate that it worked correctly.  "
   ]
  },
  {
   "cell_type": "code",
   "execution_count": 10,
   "metadata": {},
   "outputs": [
    {
     "name": "stdout",
     "output_type": "stream",
     "text": [
      "{'_id': ObjectId('5dfa800251ff3d6d80ddf5a3'), 'Name': 'John Smith', 'Email': 'j.smith@thesmiths.com', 'Mailing_Address': '123 mulberry lane', 'Balance': '0.0', 'Notes': 'Called technical support, issue not yet resolved'}\n"
     ]
    }
   ],
   "source": [
    "query_2 = mycollection.find({'Name': 'John Smith'})\n",
    "for x in query_2:\n",
    "    print (x)\n",
    "\n",
    "\n"
   ]
  },
  {
   "cell_type": "markdown",
   "metadata": {},
   "source": [
    "Great! Now, write a query to get the names, email addresses, and balances for customers that have a balance greater than 0. Use a modifier to do this. \n",
    "\n",
    "**_HINT_**: In the query below, you'll be passing in two separate dictionaries. The first one defines the logic of the query, while the second tells which fields we want returned. "
   ]
  },
  {
   "cell_type": "code",
   "execution_count": 18,
   "metadata": {},
   "outputs": [],
   "source": [
    "query_3 = mycollection.find({'Balance': { '$gt':0}}, {'Name':1, 'Email': 1, 'Balance':1,})\n",
    "for i in query_3:\n",
    "    print(i)\n",
    "\n"
   ]
  },
  {
   "cell_type": "markdown",
   "metadata": {},
   "source": [
    "## Updating a Record\n",
    "\n",
    "Now, let's update some records. In the cell below. set the mailing address for `'John Smith'` to `'367 55th St., apt 2A'`."
   ]
  },
  {
   "cell_type": "code",
   "execution_count": 11,
   "metadata": {},
   "outputs": [
    {
     "data": {
      "text/plain": [
       "<pymongo.results.UpdateResult at 0x25ad2c1ae08>"
      ]
     },
     "execution_count": 11,
     "metadata": {},
     "output_type": "execute_result"
    }
   ],
   "source": [
    "record_to_update_1 = ({'Name': 'John Smith'} )\n",
    "update_1 = {'$set': {'Mailing_Address': '367 55th St. apt 2A'}}\n",
    "\n",
    "mycollection.update_one(record_to_update_1, update_1)\n",
    "\n"
   ]
  },
  {
   "cell_type": "markdown",
   "metadata": {},
   "source": [
    "Now, write a query to check that the update worked for this document in the cell below:  "
   ]
  },
  {
   "cell_type": "code",
   "execution_count": 12,
   "metadata": {},
   "outputs": [
    {
     "name": "stdout",
     "output_type": "stream",
     "text": [
      "{'_id': ObjectId('5dfa800251ff3d6d80ddf5a3'), 'Name': 'John Smith', 'Email': 'j.smith@thesmiths.com', 'Mailing_Address': '367 55th St. apt 2A', 'Balance': '0.0', 'Notes': 'Called technical support, issue not yet resolved'}\n"
     ]
    }
   ],
   "source": [
    "query_4 = mycollection.find({'Name': 'John Smith'})\n",
    "for x in query_4:\n",
    "    print(x)"
   ]
  },
  {
   "cell_type": "markdown",
   "metadata": {},
   "source": [
    "Now, let's assume that we want to add birthdays for each customer record. Consider the following table:\n",
    "\n",
    "|     Name     |  Birthday  |\n",
    "|:------------:|:----------:|\n",
    "|  John Smith  | 02/20/1986 |\n",
    "|  Jane Smith  | 07/07/1983 |\n",
    "|  Adam Enbar  | 12/02/1982 |\n",
    "| Avi Flombaum | 04/17/1983 |\n",
    "|   Steven S.  | 08/30/1991 |\n",
    "\n",
    "We want to add birthdays for each person, but we want to do so in a way where we don't have to do the same repetitive task over and over again. This seems like a good opportunity to write a function to handle some of the logic for us!\n",
    "\n",
    "In the cell below:\n",
    "\n",
    "* Store the names in the `names_list` variable as a list.\n",
    "* Store the birthdays in the `birthdays_list` variable as a list.\n",
    "* Write a function that takes in the two different lists, and updates each record by adding in the appropriate key-value pair containing that user's birthday.\n",
    "\n",
    "**_Hint:_** There are several ways that you could write this, depending on whether you want to use the `update_one()` method or the `update_many()` method. See if you can figure out both approaches!"
   ]
  },
  {
   "cell_type": "code",
   "execution_count": 17,
   "metadata": {
    "scrolled": true
   },
   "outputs": [],
   "source": [
    "names_list = ['John Smith', 'Jane Smith', 'Adam Enbar', 'Avi Flombaum', 'Steven S.']\n",
    "birthdays_list = ['02/20/1986', '07/07/1983', '12/02/1982', '04/17/1983', '08/30/1991']\n",
    "dictionary = dict(zip(names_list, birthdays_list))\n",
    "\n",
    "\n",
    "dictionary\n",
    "b = [{k:v} for k,v in dictionary.items()]"
   ]
  },
  {
   "cell_type": "code",
   "execution_count": 18,
   "metadata": {},
   "outputs": [
    {
     "data": {
      "text/plain": [
       "[{'John Smith': '02/20/1986'},\n",
       " {'Jane Smith': '07/07/1983'},\n",
       " {'Adam Enbar': '12/02/1982'},\n",
       " {'Avi Flombaum': '04/17/1983'},\n",
       " {'Steven S.': '08/30/1991'}]"
      ]
     },
     "execution_count": 18,
     "metadata": {},
     "output_type": "execute_result"
    }
   ],
   "source": [
    "b"
   ]
  },
  {
   "cell_type": "code",
   "execution_count": 27,
   "metadata": {},
   "outputs": [],
   "source": [
    "def update_birthdaysM(d):\n",
    "    for i,v in enumerate(d):\n",
    "        for name, birthday in v.items():\n",
    "            queryb = {'Name': name}\n",
    "            update = {'$set': {'Birthday': birthday}}\n",
    "            mycollection.update_many(queryb, update)"
   ]
  },
  {
   "cell_type": "code",
   "execution_count": 28,
   "metadata": {},
   "outputs": [],
   "source": [
    "update_birthdaysM(b)"
   ]
  },
  {
   "cell_type": "code",
   "execution_count": 29,
   "metadata": {},
   "outputs": [
    {
     "name": "stdout",
     "output_type": "stream",
     "text": [
      "{'_id': ObjectId('5dfa800251ff3d6d80ddf5a3'), 'Name': 'John Smith', 'Email': 'j.smith@thesmiths.com', 'Mailing_Address': '367 55th St. apt 2A', 'Balance': '0.0', 'Notes': 'Called technical support, issue not yet resolved', 'Birthday': '02/20/1986'}\n",
      "{'_id': ObjectId('5dfa800251ff3d6d80ddf5a4'), 'Name': 'Jane Smith', 'Email': 'jane.smith@thesmiths.com', 'Balance': '25.00', 'Birthday': '07/07/1983'}\n",
      "{'_id': ObjectId('5dfa800251ff3d6d80ddf5a5'), 'Name': 'Adam Enbar', 'Email': 'adam@theflatironschool.com', 'Mailing_Address': '11 Broadway', 'Balance': '14.99', 'Notes': 'Set up on recurring billing cycle', 'Birthday': '12/02/1982'}\n",
      "{'_id': ObjectId('5dfa800251ff3d6d80ddf5a6'), 'Name': 'Avi Flombaum', 'Email': 'avi@theflatironschool.com', 'Mailing_Address': '11 Broadway', 'Balance': '0.0', 'Birthday': '04/17/1983'}\n",
      "{'_id': ObjectId('5dfa800251ff3d6d80ddf5a7'), 'Name': 'Steven S.', 'Email': 'steven.s@gmail.net', 'Balance': '-23.23', 'Notes': 'Refunded for overpayment due to price match guarantee', 'Birthday': '08/30/1991'}\n"
     ]
    },
    {
     "data": {
      "text/plain": [
       "[None, None, None, None, None]"
      ]
     },
     "execution_count": 29,
     "metadata": {},
     "output_type": "execute_result"
    }
   ],
   "source": [
    "querya = mycollection.find({})\n",
    "[print(x) for x in querya]"
   ]
  },
  {
   "cell_type": "code",
   "execution_count": 15,
   "metadata": {},
   "outputs": [],
   "source": [
    "names_list = ['John Smith', 'Jane Smith', 'Adam Enbar', 'Avi Flombaum', 'Steven S.']\n",
    "birthdays_list = ['02/20/1986', '07/07/1983', '12/02/0982', '04/17/1983', '08/30/1991']\n",
    "\n",
    "def update_birthdays(names, birthdays):\n",
    "    for ind, name in enumerate(names):\n",
    "        birthday = birthdays_list[ind]\n",
    "        query = {'Name': name}\n",
    "        update = {'$set': {'Birthday': birthday}}\n",
    "        mycollection.update_one(query, update)\n",
    "        # Alternative method is to create a dictionary for each person, store them all in a list, and then pass that \n",
    "        # list to update_many() at the end of the function. \n",
    "        \n",
    "update_birthdays(names_list, birthdays_list)"
   ]
  },
  {
   "cell_type": "markdown",
   "metadata": {},
   "source": [
    "Now, write a query to check your work and see that the birthdays were added correctly."
   ]
  },
  {
   "cell_type": "code",
   "execution_count": 20,
   "metadata": {
    "scrolled": true
   },
   "outputs": [
    {
     "name": "stdout",
     "output_type": "stream",
     "text": [
      "{'_id': ObjectId('5df82d3a2e402cd8a84778b6'), 'Name': 'John Smith', 'Email': 'j.smith@thesmiths.com', 'Mailing_Address': '367 55th St. apt 2A', 'Balance': '0.0', 'Notes': 'Called technical support, issue not yet resolved', 'Birthday': '02/20/1986'}\n",
      "{'_id': ObjectId('5df82d3a2e402cd8a84778b7'), 'Name': 'Jane Smith', 'Email': 'jane.smith@thesmiths.com', 'Mailing_Address': 'Null', 'Balance': '25.00', 'Notes': 'Null', 'Birthday': '07/07/1983'}\n",
      "{'_id': ObjectId('5df82d3a2e402cd8a84778b8'), 'Name': 'Adam Enbar', 'Email': 'adam@theflatironschool.com', 'Mailing_Address': '11 Broadway', 'Balance': '14.99', 'Notes': 'Set up on recurring billing cycle', 'Birthday': '12/02/0982'}\n",
      "{'_id': ObjectId('5df82d3a2e402cd8a84778b9'), 'Name': 'Avi Flombaum', 'Email': 'avi@theflatironschool.com', 'Mailing_Address': '11 Broadway', 'Balance': '0.0', 'Notes': 'Null', 'Birthday': '04/17/1983'}\n",
      "{'_id': ObjectId('5df82d3a2e402cd8a84778ba'), 'Name': 'Steven S.', 'Email': 'steven.s@gmail.net', 'Mailing_Address': 'Null', 'Balance': '-23.23', 'Notes': 'Refunded for overpayment due to price match guarantee', 'Birthday': '08/30/1991'}\n",
      "{'_id': ObjectId('5df96d7a765653d071127eed'), 'Name': 'John Smith', 'Email': 'j.smith@thesmiths.com', 'Mailing_Address': '123 mulberry lane', 'Balance': '0.0', 'Notes': 'Called technical support, issue not yet resolved'}\n",
      "{'_id': ObjectId('5df96d7a765653d071127eee'), 'Name': 'Jane Smith', 'Email': 'jane.smith@thesmiths.com', 'Mailing_Address': 'Null', 'Balance': '25.00'}\n",
      "{'_id': ObjectId('5df96d7a765653d071127eef'), 'Name': 'Adam Enbar', 'Email': 'adam@theflatironschool.com', 'Mailing_Address': '11 Broadway', 'Balance': '14.99', 'Notes': 'Set up on recurring billing cycle'}\n",
      "{'_id': ObjectId('5df96d7a765653d071127ef0'), 'Name': 'Avi Flombaum', 'Email': 'avi@theflatironschool.com', 'Mailing_Address': '11 Broadway', 'Balance': '0.0'}\n",
      "{'_id': ObjectId('5df96d7a765653d071127ef1'), 'Name': 'Steven S.', 'Email': 'steven.s@gmail.net', 'Balance': '-23.23', 'Notes': 'Refunded for overpayment due to price match guarantee'}\n",
      "{'_id': ObjectId('5dfa38c5765653d071127ef3'), 'Name': 'John Smith', 'Email': 'j.smith@thesmiths.com', 'Mailing_Address': '123 mulberry lane', 'Balance': '0.0', 'Notes': 'Called technical support, issue not yet resolved'}\n",
      "{'_id': ObjectId('5dfa38c5765653d071127ef4'), 'Name': 'Jane Smith', 'Email': 'jane.smith@thesmiths.com', 'Mailing_Address': 'Null', 'Balance': '25.00'}\n",
      "{'_id': ObjectId('5dfa38c5765653d071127ef5'), 'Name': 'Adam Enbar', 'Email': 'adam@theflatironschool.com', 'Mailing_Address': '11 Broadway', 'Balance': '14.99', 'Notes': 'Set up on recurring billing cycle'}\n",
      "{'_id': ObjectId('5dfa38c5765653d071127ef6'), 'Name': 'Avi Flombaum', 'Email': 'avi@theflatironschool.com', 'Mailing_Address': '11 Broadway', 'Balance': '0.0'}\n",
      "{'_id': ObjectId('5dfa38c5765653d071127ef7'), 'Name': 'Steven S.', 'Email': 'steven.s@gmail.net', 'Balance': '-23.23', 'Notes': 'Refunded for overpayment due to price match guarantee'}\n",
      "{'_id': ObjectId('5dfa3966765653d071127ef8'), 'Name': 'John Smith', 'Email': 'j.smith@thesmiths.com', 'Mailing_Address': '123 mulberry lane', 'Balance': '0.0', 'Notes': 'Called technical support, issue not yet resolved'}\n",
      "{'_id': ObjectId('5dfa3966765653d071127ef9'), 'Name': 'Jane Smith', 'Email': 'jane.smith@thesmiths.com', 'Balance': '25.00'}\n",
      "{'_id': ObjectId('5dfa3966765653d071127efa'), 'Name': 'Adam Enbar', 'Email': 'adam@theflatironschool.com', 'Mailing_Address': '11 Broadway', 'Balance': '14.99', 'Notes': 'Set up on recurring billing cycle'}\n",
      "{'_id': ObjectId('5dfa3966765653d071127efb'), 'Name': 'Avi Flombaum', 'Email': 'avi@theflatironschool.com', 'Mailing_Address': '11 Broadway', 'Balance': '0.0'}\n",
      "{'_id': ObjectId('5dfa3966765653d071127efc'), 'Name': 'Steven S.', 'Email': 'steven.s@gmail.net', 'Balance': '-23.23', 'Notes': 'Refunded for overpayment due to price match guarantee'}\n",
      "{'_id': ObjectId('5dfa398a84ba67a173f596f5'), 'Name': 'John Smith', 'Email': 'j.smith@thesmiths.com', 'Mailing_Address': '123 mulberry lane', 'Balance': '0.0', 'Notes': 'Called technical support, issue not yet resolved'}\n",
      "{'_id': ObjectId('5dfa398a84ba67a173f596f6'), 'Name': 'Jane Smith', 'Email': 'jane.smith@thesmiths.com', 'Balance': '25.00'}\n",
      "{'_id': ObjectId('5dfa398a84ba67a173f596f7'), 'Name': 'Adam Enbar', 'Email': 'adam@theflatironschool.com', 'Mailing_Address': '11 Broadway', 'Balance': '14.99', 'Notes': 'Set up on recurring billing cycle'}\n",
      "{'_id': ObjectId('5dfa398a84ba67a173f596f8'), 'Name': 'Avi Flombaum', 'Email': 'avi@theflatironschool.com', 'Mailing_Address': '11 Broadway', 'Balance': '0.0'}\n",
      "{'_id': ObjectId('5dfa398a84ba67a173f596f9'), 'Name': 'Steven S.', 'Email': 'steven.s@gmail.net', 'Balance': '-23.23', 'Notes': 'Refunded for overpayment due to price match guarantee'}\n"
     ]
    },
    {
     "data": {
      "text/plain": [
       "[None,\n",
       " None,\n",
       " None,\n",
       " None,\n",
       " None,\n",
       " None,\n",
       " None,\n",
       " None,\n",
       " None,\n",
       " None,\n",
       " None,\n",
       " None,\n",
       " None,\n",
       " None,\n",
       " None,\n",
       " None,\n",
       " None,\n",
       " None,\n",
       " None,\n",
       " None,\n",
       " None,\n",
       " None,\n",
       " None,\n",
       " None,\n",
       " None]"
      ]
     },
     "execution_count": 20,
     "metadata": {},
     "output_type": "execute_result"
    }
   ],
   "source": [
    "query_8 = mycollection.find({})\n",
    "[print(x) for x in query_8]"
   ]
  },
  {
   "cell_type": "code",
   "execution_count": 21,
   "metadata": {
    "scrolled": true
   },
   "outputs": [
    {
     "name": "stdout",
     "output_type": "stream",
     "text": [
      "{'_id': ObjectId('5df82d3a2e402cd8a84778b7'), 'Name': 'Jane Smith', 'Email': 'jane.smith@thesmiths.com', 'Mailing_Address': 'Null', 'Balance': '25.00', 'Notes': 'Null', 'Birthday': '07/07/1983'}\n",
      "{'_id': ObjectId('5df96d7a765653d071127eee'), 'Name': 'Jane Smith', 'Email': 'jane.smith@thesmiths.com', 'Mailing_Address': 'Null', 'Balance': '25.00'}\n",
      "{'_id': ObjectId('5dfa38c5765653d071127ef4'), 'Name': 'Jane Smith', 'Email': 'jane.smith@thesmiths.com', 'Mailing_Address': 'Null', 'Balance': '25.00'}\n",
      "{'_id': ObjectId('5dfa3966765653d071127ef9'), 'Name': 'Jane Smith', 'Email': 'jane.smith@thesmiths.com', 'Balance': '25.00'}\n",
      "{'_id': ObjectId('5dfa398a84ba67a173f596f6'), 'Name': 'Jane Smith', 'Email': 'jane.smith@thesmiths.com', 'Balance': '25.00'}\n"
     ]
    },
    {
     "data": {
      "text/plain": [
       "[None, None, None, None, None]"
      ]
     },
     "execution_count": 21,
     "metadata": {},
     "output_type": "execute_result"
    }
   ],
   "source": [
    "query_9 = mycollection.find({'Name': 'Jane Smith'})\n",
    "[print (j) for j in query_9]"
   ]
  },
  {
   "cell_type": "code",
   "execution_count": 29,
   "metadata": {},
   "outputs": [
    {
     "name": "stdout",
     "output_type": "stream",
     "text": [
      "0\n",
      "John Smith\n",
      "02/20/1986\n",
      "1\n",
      "Jane Smith\n",
      "07/07/1983\n",
      "2\n",
      "Adam Enbar\n",
      "12/02/0982\n",
      "3\n",
      "Avi Flombaum\n",
      "04/17/1983\n",
      "4\n",
      "Steven S.\n",
      "08/30/1991\n"
     ]
    }
   ],
   "source": [
    "names_list = ['John Smith', 'Jane Smith', 'Adam Enbar', 'Avi Flombaum', 'Steven S.']\n",
    "birthdays_list = ['02/20/1986', '07/07/1983', '12/02/0982', '04/17/1983', '08/30/1991']\n",
    "def update_birthdays(names, birthdays):\n",
    "    for ind, name in enumerate(names):\n",
    "        birthday = birthdays_list[ind]\n",
    "        print(ind)\n",
    "        print(name)\n",
    "        print(birthday)\n",
    "update_birthdays(names_list, birthdays_list)"
   ]
  },
  {
   "cell_type": "code",
   "execution_count": 10,
   "metadata": {},
   "outputs": [],
   "source": [
    "query = mycollection.delete_many({})"
   ]
  },
  {
   "cell_type": "markdown",
   "metadata": {},
   "source": [
    "Great! It looks like the birthdays have been successfully added to every record correctly!\n",
    "\n",
    "## Summary\n",
    "\n",
    "In this lesson, we got some hands-on practice working with MongoDB!"
   ]
  }
 ],
 "metadata": {
  "kernelspec": {
   "display_name": "Python 3",
   "language": "python",
   "name": "python3"
  },
  "language_info": {
   "codemirror_mode": {
    "name": "ipython",
    "version": 3
   },
   "file_extension": ".py",
   "mimetype": "text/x-python",
   "name": "python",
   "nbconvert_exporter": "python",
   "pygments_lexer": "ipython3",
   "version": "3.6.9"
  },
  "toc": {
   "base_numbering": 1,
   "nav_menu": {},
   "number_sections": true,
   "sideBar": true,
   "skip_h1_title": false,
   "title_cell": "Table of Contents",
   "title_sidebar": "Contents",
   "toc_cell": false,
   "toc_position": {},
   "toc_section_display": true,
   "toc_window_display": true
  },
  "varInspector": {
   "cols": {
    "lenName": 16,
    "lenType": 16,
    "lenVar": 40
   },
   "kernels_config": {
    "python": {
     "delete_cmd_postfix": "",
     "delete_cmd_prefix": "del ",
     "library": "var_list.py",
     "varRefreshCmd": "print(var_dic_list())"
    },
    "r": {
     "delete_cmd_postfix": ") ",
     "delete_cmd_prefix": "rm(",
     "library": "var_list.r",
     "varRefreshCmd": "cat(var_dic_list()) "
    }
   },
   "types_to_exclude": [
    "module",
    "function",
    "builtin_function_or_method",
    "instance",
    "_Feature"
   ],
   "window_display": false
  }
 },
 "nbformat": 4,
 "nbformat_minor": 2
}
